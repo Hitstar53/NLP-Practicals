{
 "cells": [
  {
   "cell_type": "markdown",
   "metadata": {},
   "source": [
    "<style type=\"text/css\">\n",
    ".tf  {border-collapse:collapse;border-spacing:0;width:100%}\n",
    ".tf td{border-color:black;border-style:solid;border-width:1px;font-family:Arial, sans-serif;font-size:14px;\n",
    "  overflow:hidden;padding:10px 5px;word-break:normal;}\n",
    ".tf th{border-color:black;border-style:solid;border-width:1px;font-family:Arial, sans-serif;font-size:14px;\n",
    "  font-weight:normal;overflow:hidden;padding:10px 5px;word-break:normal;}\n",
    ".tf .tg-0pky{border-color:inherit;text-align:left;vertical-align:top}\n",
    ".col1 { width: 20%;}\n",
    ".col2 { width: 80%;}\n",
    "</style>\n",
    "<table class=\"tf\">\n",
    "<thead>\n",
    "  <tr>\n",
    "    <th class=\"tg-0pky col1\">Name</th>\n",
    "    <th class=\"tg-0pky col2\">Hatim Sawai</th>\n",
    "  </tr>\n",
    "</thead>\n",
    "<tbody>\n",
    "  <tr>\n",
    "    <td class=\"tg-0pky col1\">UID No.</td>\n",
    "    <td class=\"tg-0pky col2\">2021300108</td>\n",
    "  </tr>\n",
    "  <tr>\n",
    "    <td class=\"tg-0pky col1\">Experiment No.</td>\n",
    "    <td class=\"tg-0pky col2\">2</td>\n",
    "  </tr>\n",
    "</tbody>\n",
    "</table>"
   ]
  },
  {
   "cell_type": "markdown",
   "metadata": {},
   "source": [
    "## <p style=\"text-align:center;font-weight:500;\">Experiment 2</p>\n",
    "<style type=\"text/css\">\n",
    ".tg  {border-collapse:collapse;border-spacing:0;width:100%}\n",
    ".tg td{border-color:black;border-style:solid;border-width:1px;font-family:Arial, sans-serif;font-size:14px;\n",
    "  overflow:hidden;padding:10px 5px;word-break:normal;}\n",
    ".tg th{border-color:black;border-style:solid;border-width:1px;font-family:Arial, sans-serif;font-size:14px;\n",
    "  font-weight:normal;overflow:hidden;padding:10px 10px;word-break:normal;}\n",
    ".tg .tg-0pky{border-color:inherit;text-align:left;vertical-align:top;}\n",
    ".col1 { width: 20%;}\n",
    ".col2 { width: 80%;}\n",
    "</style>\n",
    "<table class=\"tg\">\n",
    "<thead>\n",
    "  <tr>\n",
    "    <th class=\"tg-0pky col1\">Aim</th>\n",
    "    <th class=\"tg-0pky col2\">1. Generate word forms from root and suffix information using Add-Delete table.\n",
    "<br>2. Comparative study of Porter/Snowball/Lancaster Stemmer and Stemmer vs Lemmatizer</th>\n",
    "  </tr>\n",
    "</thead>\n",
    "</table> "
   ]
  },
  {
   "cell_type": "markdown",
   "metadata": {},
   "source": [
    "### 1. Installation of NLTK and downloading the required corpus"
   ]
  },
  {
   "cell_type": "code",
   "execution_count": 12,
   "metadata": {},
   "outputs": [
    {
     "name": "stderr",
     "output_type": "stream",
     "text": [
      "[nltk_data] Downloading package punkt to\n",
      "[nltk_data]     C:\\Users\\shabb\\AppData\\Roaming\\nltk_data...\n",
      "[nltk_data]   Package punkt is already up-to-date!\n",
      "[nltk_data] Downloading package averaged_perceptron_tagger to\n",
      "[nltk_data]     C:\\Users\\shabb\\AppData\\Roaming\\nltk_data...\n",
      "[nltk_data]   Package averaged_perceptron_tagger is already up-to-\n",
      "[nltk_data]       date!\n",
      "[nltk_data] Downloading package wordnet to\n",
      "[nltk_data]     C:\\Users\\shabb\\AppData\\Roaming\\nltk_data...\n",
      "[nltk_data]   Package wordnet is already up-to-date!\n"
     ]
    },
    {
     "data": {
      "text/plain": [
       "True"
      ]
     },
     "execution_count": 12,
     "metadata": {},
     "output_type": "execute_result"
    }
   ],
   "source": [
    "import nltk\n",
    "import inflect\n",
    "from pattern.en import conjugate\n",
    "import matplotlib.pyplot as plt\n",
    "from nltk.stem import WordNetLemmatizer\n",
    "from nltk.corpus import wordnet\n",
    "from prettytable import PrettyTable\n",
    "from nltk.tokenize import word_tokenize, sent_tokenize\n",
    "\n",
    "nltk.download(\"punkt\")\n",
    "nltk.download(\"averaged_perceptron_tagger\")\n",
    "nltk.download(\"wordnet\")"
   ]
  },
  {
   "cell_type": "markdown",
   "metadata": {},
   "source": [
    "### 2. Program Steps"
   ]
  },
  {
   "cell_type": "code",
   "execution_count": 21,
   "metadata": {},
   "outputs": [],
   "source": [
    "# generate diiferent forms of words\n",
    "def generate_wordforms(words):\n",
    "    p = inflect.engine()\n",
    "    wordforms = []\n",
    "    for word in words:\n",
    "        forms = []\n",
    "        singular = word\n",
    "        forms.append(singular)\n",
    "        plural = p.plural(word)\n",
    "        forms.append(plural)\n",
    "        past_tense = conjugate(word, tense=\"past\")\n",
    "        forms.append(past_tense)\n",
    "        present_participle = conjugate(word, tense=\"part\")\n",
    "        forms.append(present_participle)\n",
    "        wordforms.append(forms)\n",
    "    return wordforms\n",
    "    "
   ]
  },
  {
   "cell_type": "code",
   "execution_count": 53,
   "metadata": {},
   "outputs": [
    {
     "name": "stdout",
     "output_type": "stream",
     "text": [
      "[['run', 'runs', 'ran', 'running'], ['jump', 'jumps', 'jumped', 'jumping'], ['play', 'plays', 'played', 'playing'], ['sleep', 'sleeps', 'slept', 'sleeping'], ['eat', 'eats', 'ate', 'eating'], ['walk', 'walks', 'walked', 'walking'], ['read', 'reads', 'read', 'reading'], ['write', 'writes', 'wrote', 'writing'], ['sing', 'sings', 'sung', 'singing'], ['think', 'thinks', 'thought', 'thinking'], ['cry', 'cries', 'cried', 'crying']]\n"
     ]
    }
   ],
   "source": [
    "words = [\"run\", \"jump\", \"play\", \"sleep\", \"eat\", \"walk\", \"read\", \"write\", \"sing\", \"think\", \"cry\"]\n",
    "\n",
    "wordforms = generate_wordforms(words)\n",
    "print(wordforms)"
   ]
  },
  {
   "cell_type": "code",
   "execution_count": 52,
   "metadata": {},
   "outputs": [],
   "source": [
    "def calc_add_del(wordforms):\n",
    "    root = wordforms[0]\n",
    "    for i,form in enumerate(wordforms):\n",
    "        if i == 0:\n",
    "            continue\n",
    "        else:\n",
    "            # count equal chars break at first unequal\n",
    "            for j,char in enumerate(root):\n",
    "                if char != form[j]:\n",
    "                    break\n",
    "            delete = len(root[j:])-1\n",
    "            add = len(form[j:])-1\n",
    "            wordforms[i] = [delete, add]\n",
    "    return wordforms"
   ]
  },
  {
   "cell_type": "code",
   "execution_count": 54,
   "metadata": {},
   "outputs": [
    {
     "name": "stdout",
     "output_type": "stream",
     "text": [
      "['run', 'runs', 'ran', 'running']\n",
      "['run', [0, 1], [1, 1], [0, 4]]\n",
      "['jump', 'jumps', 'jumped', 'jumping']\n",
      "['jump', [0, 1], [0, 2], [0, 3]]\n",
      "['play', 'plays', 'played', 'playing']\n",
      "['play', [0, 1], [0, 2], [0, 3]]\n",
      "['sleep', 'sleeps', 'slept', 'sleeping']\n",
      "['sleep', [0, 1], [1, 1], [0, 3]]\n",
      "['eat', 'eats', 'ate', 'eating']\n",
      "['eat', [0, 1], [2, 2], [0, 3]]\n",
      "['walk', 'walks', 'walked', 'walking']\n",
      "['walk', [0, 1], [0, 2], [0, 3]]\n",
      "['read', 'reads', 'read', 'reading']\n",
      "['read', [0, 1], [0, 0], [0, 3]]\n",
      "['write', 'writes', 'wrote', 'writing']\n",
      "['write', [0, 1], [2, 2], [0, 2]]\n",
      "['sing', 'sings', 'sung', 'singing']\n",
      "['sing', [0, 1], [2, 2], [0, 3]]\n",
      "['think', 'thinks', 'thought', 'thinking']\n",
      "['think', [0, 1], [2, 4], [0, 3]]\n",
      "['cry', 'cries', 'cried', 'crying']\n",
      "['cry', [0, 2], [0, 2], [0, 3]]\n"
     ]
    }
   ],
   "source": [
    "final = []\n",
    "for i,wordform in enumerate(wordforms):\n",
    "    print(wordforms[i])\n",
    "    final.append(calc_add_del(wordforms[i]))\n",
    "    print(final[i])"
   ]
  },
  {
   "cell_type": "markdown",
   "metadata": {},
   "source": [
    "### 5. Curiosity Questions\n",
    "<p style=\"font-weight:500;\">Q1. What is paradigm class? Give example.</p>\n",
    "Ans:"
   ]
  },
  {
   "cell_type": "markdown",
   "metadata": {},
   "source": [
    "<p style=\"font-weight:500;\">Q2. What are the different types of morphemes. Give example of each.</p>\n",
    "Ans:"
   ]
  },
  {
   "cell_type": "markdown",
   "metadata": {},
   "source": [
    "### 6. Conclusion\n",
    "In this experiment we learnt...."
   ]
  }
 ],
 "metadata": {
  "kernelspec": {
   "display_name": "venv",
   "language": "python",
   "name": "python3"
  },
  "language_info": {
   "codemirror_mode": {
    "name": "ipython",
    "version": 3
   },
   "file_extension": ".py",
   "mimetype": "text/x-python",
   "name": "python",
   "nbconvert_exporter": "python",
   "pygments_lexer": "ipython3",
   "version": "3.12.0"
  }
 },
 "nbformat": 4,
 "nbformat_minor": 2
}
