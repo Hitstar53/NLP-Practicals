{
 "cells": [
  {
   "cell_type": "markdown",
   "metadata": {},
   "source": [
    "<style type=\"text/css\">\n",
    ".tf  {border-collapse:collapse;border-spacing:0;width:100%}\n",
    ".tf td{border-color:black;border-style:solid;border-width:1px;font-family:Arial, sans-serif;font-size:14px;\n",
    "  overflow:hidden;padding:10px 5px;word-break:normal;}\n",
    ".tf th{border-color:black;border-style:solid;border-width:1px;font-family:Arial, sans-serif;font-size:14px;\n",
    "  font-weight:normal;overflow:hidden;padding:10px 5px;word-break:normal;}\n",
    ".tf .tg-0pky{border-color:inherit;text-align:left;vertical-align:top}\n",
    ".col1 { width: 20%;}\n",
    ".col2 { width: 80%;}\n",
    "</style>\n",
    "<table class=\"tf\">\n",
    "<thead>\n",
    "  <tr>\n",
    "    <th class=\"tg-0pky col1\">Name</th>\n",
    "    <th class=\"tg-0pky col2\">Hatim Sawai</th>\n",
    "  </tr>\n",
    "</thead>\n",
    "<tbody>\n",
    "  <tr>\n",
    "    <td class=\"tg-0pky col1\">UID No.</td>\n",
    "    <td class=\"tg-0pky col2\">2021300108</td>\n",
    "  </tr>\n",
    "  <tr>\n",
    "    <td class=\"tg-0pky col1\">Experiment No.</td>\n",
    "    <td class=\"tg-0pky col2\">2</td>\n",
    "  </tr>\n",
    "</tbody>\n",
    "</table>"
   ]
  },
  {
   "cell_type": "markdown",
   "metadata": {},
   "source": [
    "## <p style=\"text-align:center;font-weight:500;\">Experiment 2</p>\n",
    "<style type=\"text/css\">\n",
    ".tg  {border-collapse:collapse;border-spacing:0;width:100%}\n",
    ".tg td{border-color:black;border-style:solid;border-width:1px;font-family:Arial, sans-serif;font-size:14px;\n",
    "  overflow:hidden;padding:10px 5px;word-break:normal;}\n",
    ".tg th{border-color:black;border-style:solid;border-width:1px;font-family:Arial, sans-serif;font-size:14px;\n",
    "  font-weight:normal;overflow:hidden;padding:10px 10px;word-break:normal;}\n",
    ".tg .tg-0pky{border-color:inherit;text-align:left;vertical-align:top;}\n",
    ".col1 { width: 20%;}\n",
    ".col2 { width: 80%;}\n",
    "</style>\n",
    "<table class=\"tg\">\n",
    "<thead>\n",
    "  <tr>\n",
    "    <th class=\"tg-0pky col1\">Aim</th>\n",
    "    <th class=\"tg-0pky col2\">1. Generate word forms from root and suffix information using Add-Delete table.\n",
    "<br>2. Comparative study of Porter/Snowball/Lancaster Stemmer and Stemmer vs Lemmatizer</th>\n",
    "  </tr>\n",
    "</thead>\n",
    "</table> "
   ]
  },
  {
   "cell_type": "markdown",
   "metadata": {},
   "source": [
    "### 1. Installation of NLTK and downloading the required corpus"
   ]
  },
  {
   "cell_type": "code",
   "execution_count": 112,
   "metadata": {},
   "outputs": [],
   "source": [
    "import nltk\n",
    "import inflect\n",
    "from pattern.text.en import pluralize, conjugate, comparative\n",
    "import matplotlib.pyplot as plt\n",
    "from nltk.stem import WordNetLemmatizer\n",
    "from nltk.corpus import wordnet\n",
    "from prettytable import PrettyTable\n",
    "from nltk.tokenize import word_tokenize, sent_tokenize"
   ]
  },
  {
   "cell_type": "code",
   "execution_count": null,
   "metadata": {},
   "outputs": [],
   "source": [
    "nltk.download(\"punkt\")\n",
    "nltk.download(\"averaged_perceptron_tagger\")\n",
    "nltk.download(\"wordnet\")"
   ]
  },
  {
   "cell_type": "markdown",
   "metadata": {},
   "source": [
    "### 2. Generating word forms from root using Add-Delete table"
   ]
  },
  {
   "cell_type": "code",
   "execution_count": 22,
   "metadata": {},
   "outputs": [],
   "source": [
    "words = [\"run\", \"jump\", \"play\", \"sleep\", \"eat\", \"walk\", \"read\", \"write\", \"sing\", \"think\", \"cry\"]"
   ]
  },
  {
   "cell_type": "code",
   "execution_count": 113,
   "metadata": {},
   "outputs": [],
   "source": [
    "# generate diiferent forms of words\n",
    "def generate_wordforms(words):\n",
    "    p = inflect.engine()\n",
    "    wordforms = []\n",
    "    for word in words:\n",
    "        forms = []\n",
    "        forms.append(word)\n",
    "        forms.append(pluralize(word))\n",
    "        forms.append(comparative(word))\n",
    "        forms.append(conjugate(word, tense=\"past\"))\n",
    "        forms.append(conjugate(word, tense=\"part\"))\n",
    "        wordforms.append(forms)\n",
    "    return wordforms\n",
    "    "
   ]
  },
  {
   "cell_type": "code",
   "execution_count": 118,
   "metadata": {},
   "outputs": [],
   "source": [
    "# add and delete table for each word form\n",
    "def calc_add_del(wordform_arr):\n",
    "    root = wordform_arr[0]\n",
    "    table = PrettyTable()\n",
    "    table.field_names = [\"Root\", \"Del\", \"Add\", \"Chars\", \"Word Form\"]\n",
    "    table.align[\"Chars\"] = \"l\"\n",
    "    table.align[\"Word Form\"] = \"l\"\n",
    "    for i,form in enumerate(wordform_arr):\n",
    "        if i == 0:\n",
    "            continue\n",
    "        else:\n",
    "            # count equal chars break at first unequal\n",
    "            for j,char in enumerate(root):\n",
    "                if char != form[j]:\n",
    "                    break\n",
    "            if len(root) != len(form):\n",
    "                j += 1\n",
    "            # count chars after first unequal\n",
    "            add = len(form[j:])\n",
    "            delete = len(root[j:])\n",
    "            wordform_arr[i] = [delete, add, form[j:], form]\n",
    "            table.add_row([root, delete, add, form[j:], form])\n",
    "    print(table)"
   ]
  },
  {
   "cell_type": "code",
   "execution_count": 119,
   "metadata": {},
   "outputs": [
    {
     "name": "stdout",
     "output_type": "stream",
     "text": [
      "+------+-----+-----+-------+-----------+\n",
      "| Root | Del | Add | Chars | Word Form |\n",
      "+------+-----+-----+-------+-----------+\n",
      "| run  |  0  |  1  | s     | runs      |\n",
      "| run  |  0  |  3  | ner   | runner    |\n",
      "| run  |  2  |  2  | an    | ran       |\n",
      "| run  |  0  |  4  | ning  | running   |\n",
      "+------+-----+-----+-------+-----------+\n",
      "+------+-----+-----+-------+-----------+\n",
      "| Root | Del | Add | Chars | Word Form |\n",
      "+------+-----+-----+-------+-----------+\n",
      "| jump |  0  |  1  | s     | jumps     |\n",
      "| jump |  0  |  2  | er    | jumper    |\n",
      "| jump |  0  |  2  | ed    | jumped    |\n",
      "| jump |  0  |  3  | ing   | jumping   |\n",
      "+------+-----+-----+-------+-----------+\n",
      "+------+-----+-----+-------+-----------+\n",
      "| Root | Del | Add | Chars | Word Form |\n",
      "+------+-----+-----+-------+-----------+\n",
      "| play |  0  |  1  | s     | plays     |\n",
      "| play |  0  |  2  | er    | player    |\n",
      "| play |  0  |  2  | ed    | played    |\n",
      "| play |  0  |  3  | ing   | playing   |\n",
      "+------+-----+-----+-------+-----------+\n",
      "+-------+-----+-----+-------+-----------+\n",
      "|  Root | Del | Add | Chars | Word Form |\n",
      "+-------+-----+-----+-------+-----------+\n",
      "| sleep |  0  |  1  | s     | sleeps    |\n",
      "| sleep |  0  |  2  | er    | sleeper   |\n",
      "| sleep |  2  |  2  | pt    | slept     |\n",
      "| sleep |  0  |  3  | ing   | sleeping  |\n",
      "+-------+-----+-----+-------+-----------+\n",
      "+------+-----+-----+-------+-----------+\n",
      "| Root | Del | Add | Chars | Word Form |\n",
      "+------+-----+-----+-------+-----------+\n",
      "| eat  |  0  |  1  | s     | eats      |\n",
      "| eat  |  0  |  2  | er    | eater     |\n",
      "| eat  |  3  |  3  | ate   | ate       |\n",
      "| eat  |  0  |  3  | ing   | eating    |\n",
      "+------+-----+-----+-------+-----------+\n",
      "+------+-----+-----+-------+-----------+\n",
      "| Root | Del | Add | Chars | Word Form |\n",
      "+------+-----+-----+-------+-----------+\n",
      "| walk |  0  |  1  | s     | walks     |\n",
      "| walk |  0  |  2  | er    | walker    |\n",
      "| walk |  0  |  2  | ed    | walked    |\n",
      "| walk |  0  |  3  | ing   | walking   |\n",
      "+------+-----+-----+-------+-----------+\n",
      "+------+-----+-----+-------+-----------+\n",
      "| Root | Del | Add | Chars | Word Form |\n",
      "+------+-----+-----+-------+-----------+\n",
      "| read |  0  |  1  | s     | reads     |\n",
      "| read |  0  |  2  | er    | reader    |\n",
      "| read |  1  |  1  | d     | read      |\n",
      "| read |  0  |  3  | ing   | reading   |\n",
      "+------+-----+-----+-------+-----------+\n",
      "+-------+-----+-----+-------+-----------+\n",
      "|  Root | Del | Add | Chars | Word Form |\n",
      "+-------+-----+-----+-------+-----------+\n",
      "| write |  0  |  1  | s     | writes    |\n",
      "| write |  0  |  1  | r     | writer    |\n",
      "| write |  3  |  3  | ote   | wrote     |\n",
      "| write |  0  |  2  | ng    | writing   |\n",
      "+-------+-----+-----+-------+-----------+\n",
      "+------+-----+-----+-------+-----------+\n",
      "| Root | Del | Add | Chars | Word Form |\n",
      "+------+-----+-----+-------+-----------+\n",
      "| sing |  0  |  1  | s     | sings     |\n",
      "| sing |  0  |  2  | er    | singer    |\n",
      "| sing |  3  |  3  | ung   | sung      |\n",
      "| sing |  0  |  3  | ing   | singing   |\n",
      "+------+-----+-----+-------+-----------+\n",
      "+-------+-----+-----+-------+-----------+\n",
      "|  Root | Del | Add | Chars | Word Form |\n",
      "+-------+-----+-----+-------+-----------+\n",
      "| think |  0  |  1  | s     | thinks    |\n",
      "| think |  0  |  2  | er    | thinker   |\n",
      "| think |  2  |  4  | ught  | thought   |\n",
      "| think |  0  |  3  | ing   | thinking  |\n",
      "+-------+-----+-----+-------+-----------+\n",
      "+------+-----+-----+-------+-----------+\n",
      "| Root | Del | Add | Chars | Word Form |\n",
      "+------+-----+-----+-------+-----------+\n",
      "| cry  |  0  |  2  | es    | cries     |\n",
      "| cry  |  0  |  2  | er    | cryer     |\n",
      "| cry  |  0  |  2  | ed    | cried     |\n",
      "| cry  |  0  |  3  | ing   | crying    |\n",
      "+------+-----+-----+-------+-----------+\n"
     ]
    }
   ],
   "source": [
    "wordforms = generate_wordforms(words)\n",
    "\n",
    "for i, wordform in enumerate(wordforms):\n",
    "    calc_add_del(wordforms[i])"
   ]
  },
  {
   "cell_type": "markdown",
   "metadata": {},
   "source": [
    "### 5. Curiosity Questions\n",
    "<p style=\"font-weight:500;\">Q1. What is paradigm class? Give example.</p>\n",
    "Ans:"
   ]
  },
  {
   "cell_type": "markdown",
   "metadata": {},
   "source": [
    "<p style=\"font-weight:500;\">Q2. What are the different types of morphemes. Give example of each.</p>\n",
    "Ans:"
   ]
  },
  {
   "cell_type": "markdown",
   "metadata": {},
   "source": [
    "### 6. Conclusion\n",
    "In this experiment we learned about the different types of morphemes and how to generate word forms from root and suffix information using Add-Delete table. We also learned about the comparative study of Porter/Snowball/Lancaster Stemmer and Stemmer vs Lemmatizer."
   ]
  }
 ],
 "metadata": {
  "kernelspec": {
   "display_name": "venv",
   "language": "python",
   "name": "python3"
  },
  "language_info": {
   "codemirror_mode": {
    "name": "ipython",
    "version": 3
   },
   "file_extension": ".py",
   "mimetype": "text/x-python",
   "name": "python",
   "nbconvert_exporter": "python",
   "pygments_lexer": "ipython3",
   "version": "3.11.0"
  }
 },
 "nbformat": 4,
 "nbformat_minor": 2
}
