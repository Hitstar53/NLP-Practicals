{
 "cells": [
  {
   "cell_type": "markdown",
   "metadata": {},
   "source": [
    "Name: Hatim Sawai  \n",
    "UID: 2021300108  \n",
    "Batch: A  "
   ]
  },
  {
   "cell_type": "markdown",
   "metadata": {},
   "source": [
    "## <p style=\"text-align:center;font-weight:500;\">Experiment 1</p>\n",
    "Aim:  \n",
    "1. Install NLTK and perform basic Corpus analysis using NLTK such as frequency\n",
    "distribution  \n",
    "2. Learn about morphological features of a word by analysing it.  "
   ]
  },
  {
   "cell_type": "markdown",
   "metadata": {},
   "source": [
    "### 1. Installig NLTK and downloading the required corpus"
   ]
  },
  {
   "cell_type": "code",
   "execution_count": 1,
   "metadata": {},
   "outputs": [],
   "source": [
    "import nltk\n",
    "from nltk import FreqDist\n",
    "from nltk.tokenize import word_tokenize, sent_tokenize\n",
    "from nltk.tag import pos_tag\n",
    "from nltk.stem import WordNetLemmatizer\n",
    "from nltk.corpus import wordnet\n",
    "from prettytable import PrettyTable"
   ]
  },
  {
   "cell_type": "code",
   "execution_count": 2,
   "metadata": {},
   "outputs": [
    {
     "name": "stderr",
     "output_type": "stream",
     "text": [
      "[nltk_data] Downloading package punkt to\n",
      "[nltk_data]     C:\\Users\\hatim\\AppData\\Roaming\\nltk_data...\n",
      "[nltk_data]   Package punkt is already up-to-date!\n",
      "[nltk_data] Downloading package averaged_perceptron_tagger to\n",
      "[nltk_data]     C:\\Users\\hatim\\AppData\\Roaming\\nltk_data...\n",
      "[nltk_data]   Package averaged_perceptron_tagger is already up-to-\n",
      "[nltk_data]       date!\n",
      "[nltk_data] Downloading package wordnet to\n",
      "[nltk_data]     C:\\Users\\hatim\\AppData\\Roaming\\nltk_data...\n",
      "[nltk_data]   Package wordnet is already up-to-date!\n"
     ]
    },
    {
     "data": {
      "text/plain": [
       "True"
      ]
     },
     "execution_count": 2,
     "metadata": {},
     "output_type": "execute_result"
    }
   ],
   "source": [
    "nltk.download(\"punkt\")\n",
    "nltk.download(\"averaged_perceptron_tagger\")\n",
    "nltk.download(\"wordnet\")"
   ]
  },
  {
   "cell_type": "markdown",
   "metadata": {},
   "source": [
    "### 2. Morphological analysis of a words"
   ]
  },
  {
   "cell_type": "code",
   "execution_count": 3,
   "metadata": {},
   "outputs": [],
   "source": [
    "pos_mapping = {\n",
    "    \"CC\": \"Coordinating conjunction\",\n",
    "    \"CD\": \"Cardinal number\",\n",
    "    \"DT\": \"Determiner\",\n",
    "    \"EX\": \"Existential there\",\n",
    "    \"FW\": \"Foreign word\",\n",
    "    \"IN\": \"Preposition or subordinating conjunction\",\n",
    "    \"JJ\": \"Adjective\",\n",
    "    \"JJR\": \"Adjective, comparative\",\n",
    "    \"JJS\": \"Adjective, superlative\",\n",
    "    \"LS\": \"List item marker\",\n",
    "    \"MD\": \"Modal\",\n",
    "    \"NN\": \"noun, singular or mass\",\n",
    "    \"NNS\": \"noun, plural\",\n",
    "    \"NNP\": \"Proper noun, singular\",\n",
    "    \"NNPS\": \"Proper noun, plural\",\n",
    "    \"PDT\": \"Predeterminer\",\n",
    "    \"POS\": \"Possessive ending\",\n",
    "    \"PRP\": \"Personal pronoun\",\n",
    "    \"PRP$\": \"Possessive pronoun\",\n",
    "    \"RB\": \"Adverb\",\n",
    "    \"RBR\": \"Adverb, comparative\",\n",
    "    \"RBS\": \"Adverb, superlative\",\n",
    "    \"RP\": \"Particle\",\n",
    "    \"SYM\": \"Symbol\",\n",
    "    \"TO\": \"to\",\n",
    "    \"UH\": \"Interjection\",\n",
    "    \"VB\": \"Verb, base form\",\n",
    "    \"VBD\": \"Verb, past tense\",\n",
    "    \"VBG\": \"Verb, gerund or present participle\",\n",
    "    \"VBN\": \"Verb, past participle\",\n",
    "    \"VBP\": \"Verb, non­3rd person singular present\",\n",
    "    \"VBZ\": \"Verb, 3rd person singular present\",\n",
    "    \"WDT\": \"Wh­determiner\",\n",
    "    \"WP\": \"Wh­pronoun\",\n",
    "    \"WP$\": \"Possessive wh­pronoun\",\n",
    "    \"WRB\": \"Wh­adverb\",\n",
    "}\n",
    "\n",
    "def get_wordnet_pos(tag):\n",
    "    if tag.startswith(\"N\"):\n",
    "        return wordnet.NOUN\n",
    "    elif tag.startswith(\"V\"):\n",
    "        return wordnet.VERB\n",
    "    elif tag.startswith(\"R\"):\n",
    "        return wordnet.ADV\n",
    "    elif tag.startswith(\"J\"):\n",
    "        return wordnet.ADJ\n",
    "    else:\n",
    "        return wordnet.NOUN\n",
    "\n",
    "def get_category(tag):\n",
    "    if tag.startswith(\"N\"):\n",
    "        return \"Noun\"\n",
    "    elif tag.startswith(\"V\"):\n",
    "        return \"Verb\"\n",
    "    elif tag.startswith(\"R\"):\n",
    "        return \"Adverb\"\n",
    "    elif tag.startswith(\"J\"):\n",
    "        return \"Adjective\"\n",
    "    else:\n",
    "        return \"Noun\""
   ]
  },
  {
   "cell_type": "code",
   "execution_count": 4,
   "metadata": {},
   "outputs": [],
   "source": [
    "def analyze_sentence(sentence):\n",
    "    words = word_tokenize(sentence)\n",
    "    tags = pos_tag(words)\n",
    "    maleWords = [\n",
    "        \"he\",\n",
    "        \"him\",\n",
    "        \"his\",\n",
    "        \"himself\",\n",
    "        \"boy\",\n",
    "        \"sir\",\n",
    "        \"man\",\n",
    "        \"gentleman\",\n",
    "        \"father\",\n",
    "        \"son\",\n",
    "        \"brother\",\n",
    "        \"uncle\",\n",
    "        \"nephew\",\n",
    "        \"grandfather\",\n",
    "        \"grandson\",\n",
    "        \"king\",\n",
    "        \"prince\",\n",
    "        \"husband\",\n",
    "        \"groom\",\n",
    "    ]\n",
    "    femaleWords = [\n",
    "        \"she\",\n",
    "        \"her\",\n",
    "        \"hers\",\n",
    "        \"hersef\",\n",
    "        \"girl\",\n",
    "        \"madam\",\n",
    "        \"lady\",\n",
    "        \"woman\",\n",
    "        \"mother\",\n",
    "        \"daughter\",\n",
    "        \"sister\",\n",
    "        \"aunt\",\n",
    "        \"niece\",\n",
    "        \"grandmother\",\n",
    "        \"granddaughter\",\n",
    "        \"queen\",\n",
    "        \"princess\",\n",
    "        \"wife\",\n",
    "        \"bride\",\n",
    "        \"widow\",\n",
    "    ]\n",
    "    lemmatizer = WordNetLemmatizer()\n",
    "    morphological_table = PrettyTable()\n",
    "    morphological_table.field_names = [\"Root\", \"Category\", \"Gender\", \"Number\", \"Tense\"]\n",
    "    print(f\"\\nSentence: {sentence}\")\n",
    "    for i in range(len(words)):\n",
    "        root = lemmatizer.lemmatize(words[i], get_wordnet_pos(tags[i][1]))\n",
    "        category = pos_mapping[tags[i][1]] if tags[i][1] in pos_mapping else tags[i][1]\n",
    "        if words[i].lower() in maleWords:\n",
    "            gender = \"male\"\n",
    "        elif words[i].lower() in femaleWords:\n",
    "            gender = \"female\"\n",
    "        # check if word is a pronoun\n",
    "        elif \"Proper noun\" in category and (\n",
    "            words[i].endswith(\"i\")\n",
    "            or words[i].endswith(\"a\")\n",
    "            or words[i].endswith(\"e\")\n",
    "            or words[i].endswith(\"y\")\n",
    "        ):\n",
    "            gender = \"female\"\n",
    "        elif \"Proper noun\" in category:\n",
    "            gender = \"male\"\n",
    "        elif \"pronoun\" in category:\n",
    "            gender = \"Can't Assume\"\n",
    "        else:\n",
    "            gender = \"neutral\"\n",
    "        # find frequency of word in corpus\n",
    "        number = sentence.count(words[i])\n",
    "\n",
    "        # check if word is a verb\n",
    "        if tags[i][1].startswith(\"V\"):\n",
    "            # determine tense of the verb\n",
    "            if (\n",
    "                words[i].endswith(\"ed\")\n",
    "                or words[i - 1].lower() == \"had\"\n",
    "                or words[i - 1].lower() == \"was\"\n",
    "                or words[i - 1].lower() == \"were\"\n",
    "            ):\n",
    "                tense = \"past\"\n",
    "            elif (\n",
    "                words[i].endswith(\"ing\")\n",
    "                or words[i].endswith(\"s\")\n",
    "                or words[i - 1].lower() == \"is\"\n",
    "                or words[i - 1].lower() == \"are\"\n",
    "            ):\n",
    "                tense = \"present\"\n",
    "            elif words[i - 1].lower() == \"will\" or words[i - 1].lower() == \"shall\":\n",
    "                tense = \"future\"\n",
    "            else:\n",
    "                tense = \"present\"\n",
    "        else:\n",
    "            tense = \"NA\"\n",
    "\n",
    "        # print(f\"Root: {root}, Category: {category}, Gender: {gender}, Number: {number}, Tense: {tense}\")\n",
    "        morphological_table.add_row([root, category, gender, number, tense])\n",
    "    print(morphological_table)"
   ]
  },
  {
   "cell_type": "markdown",
   "metadata": {},
   "source": [
    "### 3. Reading a text file and Tokenizination"
   ]
  },
  {
   "cell_type": "code",
   "execution_count": 5,
   "metadata": {},
   "outputs": [],
   "source": [
    "# read input file\n",
    "with open(\"input.txt\", \"r\") as f:\n",
    "    text = f.read()\n",
    "\n",
    "# tokenise sentences\n",
    "sentences = sent_tokenize(text)"
   ]
  },
  {
   "cell_type": "code",
   "execution_count": 6,
   "metadata": {},
   "outputs": [
    {
     "name": "stdout",
     "output_type": "stream",
     "text": [
      "\n",
      "Sentence: The quick brown fox jumps over The lazy dog.\n"
     ]
    },
    {
     "name": "stdout",
     "output_type": "stream",
     "text": [
      "+-------+------------------------------------------+---------+--------+---------+\n",
      "|  Root |                 Category                 |  Gender | Number |  Tense  |\n",
      "+-------+------------------------------------------+---------+--------+---------+\n",
      "|  The  |                Determiner                | neutral |   2    |    NA   |\n",
      "| quick |                Adjective                 | neutral |   1    |    NA   |\n",
      "| brown |          noun, singular or mass          | neutral |   1    |    NA   |\n",
      "|  fox  |          noun, singular or mass          | neutral |   1    |    NA   |\n",
      "|  jump |    Verb, 3rd person singular present     | neutral |   1    | present |\n",
      "|  over | Preposition or subordinating conjunction | neutral |   1    |    NA   |\n",
      "|  The  |                Determiner                | neutral |   2    |    NA   |\n",
      "|  lazy |                Adjective                 | neutral |   1    |    NA   |\n",
      "|  dog  |          noun, singular or mass          | neutral |   1    |    NA   |\n",
      "|   .   |                    .                     | neutral |   1    |    NA   |\n",
      "+-------+------------------------------------------+---------+--------+---------+\n",
      "\n",
      "Sentence: She plays The piano beautifully.\n",
      "+-------------+-----------------------------------+---------+--------+---------+\n",
      "|     Root    |              Category             |  Gender | Number |  Tense  |\n",
      "+-------------+-----------------------------------+---------+--------+---------+\n",
      "|     She     |          Personal pronoun         |  female |   1    |    NA   |\n",
      "|     play    | Verb, 3rd person singular present | neutral |   1    | present |\n",
      "|     The     |             Determiner            | neutral |   1    |    NA   |\n",
      "|    piano    |       noun, singular or mass      | neutral |   1    |    NA   |\n",
      "| beautifully |               Adverb              | neutral |   1    |    NA   |\n",
      "|      .      |                 .                 | neutral |   1    |    NA   |\n",
      "+-------------+-----------------------------------+---------+--------+---------+\n",
      "\n",
      "Sentence: The sun sets in The west every evening.\n",
      "+---------+------------------------------------------+---------+--------+-------+\n",
      "|   Root  |                 Category                 |  Gender | Number | Tense |\n",
      "+---------+------------------------------------------+---------+--------+-------+\n",
      "|   The   |                Determiner                | neutral |   2    |   NA  |\n",
      "|   sun   |          noun, singular or mass          | neutral |   1    |   NA  |\n",
      "|   set   |               noun, plural               | neutral |   1    |   NA  |\n",
      "|    in   | Preposition or subordinating conjunction | neutral |   2    |   NA  |\n",
      "|   The   |                Determiner                | neutral |   2    |   NA  |\n",
      "|   west  |          noun, singular or mass          | neutral |   1    |   NA  |\n",
      "|  every  |                Determiner                | neutral |   1    |   NA  |\n",
      "| evening |          noun, singular or mass          | neutral |   1    |   NA  |\n",
      "|    .    |                    .                     | neutral |   1    |   NA  |\n",
      "+---------+------------------------------------------+---------+--------+-------+\n",
      "\n",
      "Sentence: John and Mary are going to The beach tomorrow.\n",
      "+----------+--------------------------------------+---------+--------+---------+\n",
      "|   Root   |               Category               |  Gender | Number |  Tense  |\n",
      "+----------+--------------------------------------+---------+--------+---------+\n",
      "|   John   |        Proper noun, singular         |   male  |   1    |    NA   |\n",
      "|   and    |       Coordinating conjunction       | neutral |   1    |    NA   |\n",
      "|   Mary   |        Proper noun, singular         |  female |   1    |    NA   |\n",
      "|    be    | Verb, non­3rd person singular present | neutral |   1    | present |\n",
      "|    go    |  Verb, gerund or present participle  | neutral |   1    | present |\n",
      "|    to    |                  to                  | neutral |   2    |    NA   |\n",
      "|   The    |              Determiner              | neutral |   1    |    NA   |\n",
      "|  beach   |        noun, singular or mass        | neutral |   1    |    NA   |\n",
      "| tomorrow |        noun, singular or mass        | neutral |   1    |    NA   |\n",
      "|    .     |                  .                   | neutral |   1    |    NA   |\n",
      "+----------+--------------------------------------+---------+--------+---------+\n",
      "\n",
      "Sentence: The delicious aroma of freshly baked bread fills The air.\n",
      "+-----------+------------------------------------------+---------+--------+---------+\n",
      "|    Root   |                 Category                 |  Gender | Number |  Tense  |\n",
      "+-----------+------------------------------------------+---------+--------+---------+\n",
      "|    The    |                Determiner                | neutral |   2    |    NA   |\n",
      "| delicious |                Adjective                 | neutral |   1    |    NA   |\n",
      "|   aroma   |          noun, singular or mass          | neutral |   1    |    NA   |\n",
      "|     of    | Preposition or subordinating conjunction | neutral |   1    |    NA   |\n",
      "|  freshly  |                Adjective                 | neutral |   1    |    NA   |\n",
      "|    bake   |          Verb, past participle           | neutral |   1    |   past  |\n",
      "|   bread   |          noun, singular or mass          | neutral |   1    |    NA   |\n",
      "|    fill   |    Verb, 3rd person singular present     | neutral |   1    | present |\n",
      "|    The    |                Determiner                | neutral |   2    |    NA   |\n",
      "|    air    |          noun, singular or mass          | neutral |   1    |    NA   |\n",
      "|     .     |                    .                     | neutral |   1    |    NA   |\n",
      "+-----------+------------------------------------------+---------+--------+---------+\n",
      "\n",
      "Sentence: The old library is a quiet and peaceful place.\n",
      "+----------+-----------------------------------+---------+--------+---------+\n",
      "|   Root   |              Category             |  Gender | Number |  Tense  |\n",
      "+----------+-----------------------------------+---------+--------+---------+\n",
      "|   The    |             Determiner            | neutral |   1    |    NA   |\n",
      "|   old    |             Adjective             | neutral |   1    |    NA   |\n",
      "| library  |       noun, singular or mass      | neutral |   1    |    NA   |\n",
      "|    be    | Verb, 3rd person singular present | neutral |   1    | present |\n",
      "|    a     |             Determiner            | neutral |   5    |    NA   |\n",
      "|  quiet   |             Adjective             | neutral |   1    |    NA   |\n",
      "|   and    |      Coordinating conjunction     | neutral |   1    |    NA   |\n",
      "| peaceful |             Adjective             | neutral |   1    |    NA   |\n",
      "|  place   |       noun, singular or mass      | neutral |   1    |    NA   |\n",
      "|    .     |                 .                 | neutral |   1    |    NA   |\n",
      "+----------+-----------------------------------+---------+--------+---------+\n",
      "\n",
      "Sentence: The students eagerly await The results of their exams.\n",
      "+---------+------------------------------------------+--------------+--------+---------+\n",
      "|   Root  |                 Category                 |    Gender    | Number |  Tense  |\n",
      "+---------+------------------------------------------+--------------+--------+---------+\n",
      "|   The   |                Determiner                |   neutral    |   2    |    NA   |\n",
      "| student |               noun, plural               |   neutral    |   1    |    NA   |\n",
      "| eagerly |                  Adverb                  |   neutral    |   1    |    NA   |\n",
      "|  await  |   Verb, non­3rd person singular present   |   neutral    |   1    | present |\n",
      "|   The   |                Determiner                |   neutral    |   2    |    NA   |\n",
      "|  result |               noun, plural               |   neutral    |   1    |    NA   |\n",
      "|    of   | Preposition or subordinating conjunction |   neutral    |   1    |    NA   |\n",
      "|  their  |            Possessive pronoun            | Can't Assume |   1    |    NA   |\n",
      "|   exam  |               noun, plural               |   neutral    |   1    |    NA   |\n",
      "|    .    |                    .                     |   neutral    |   1    |    NA   |\n",
      "+---------+------------------------------------------+--------------+--------+---------+\n",
      "\n",
      "Sentence: The dog chased The playful cat around The room.\n",
      "+---------+------------------------------------------+---------+--------+-------+\n",
      "|   Root  |                 Category                 |  Gender | Number | Tense |\n",
      "+---------+------------------------------------------+---------+--------+-------+\n",
      "|   The   |                Determiner                | neutral |   3    |   NA  |\n",
      "|   dog   |          noun, singular or mass          | neutral |   1    |   NA  |\n",
      "|  chase  |             Verb, past tense             | neutral |   1    |  past |\n",
      "|   The   |                Determiner                | neutral |   3    |   NA  |\n",
      "| playful |                Adjective                 | neutral |   1    |   NA  |\n",
      "|   cat   |          noun, singular or mass          | neutral |   1    |   NA  |\n",
      "|  around | Preposition or subordinating conjunction | neutral |   1    |   NA  |\n",
      "|   The   |                Determiner                | neutral |   3    |   NA  |\n",
      "|   room  |          noun, singular or mass          | neutral |   1    |   NA  |\n",
      "|    .    |                    .                     | neutral |   1    |   NA  |\n",
      "+---------+------------------------------------------+---------+--------+-------+\n",
      "\n",
      "Sentence: We enjoyed a relaxing vacation on The tropical island.\n",
      "+----------+------------------------------------------+--------------+--------+-------+\n",
      "|   Root   |                 Category                 |    Gender    | Number | Tense |\n",
      "+----------+------------------------------------------+--------------+--------+-------+\n",
      "|    We    |             Personal pronoun             | Can't Assume |   1    |   NA  |\n",
      "|  enjoy   |             Verb, past tense             |   neutral    |   1    |  past |\n",
      "|    a     |                Determiner                |   neutral    |   6    |   NA  |\n",
      "| relaxing |                Adjective                 |   neutral    |   1    |   NA  |\n",
      "| vacation |          noun, singular or mass          |   neutral    |   1    |   NA  |\n",
      "|    on    | Preposition or subordinating conjunction |   neutral    |   2    |   NA  |\n",
      "|   The    |                Determiner                |   neutral    |   1    |   NA  |\n",
      "| tropical |                Adjective                 |   neutral    |   1    |   NA  |\n",
      "|  island  |          noun, singular or mass          |   neutral    |   1    |   NA  |\n",
      "|    .     |                    .                     |   neutral    |   1    |   NA  |\n",
      "+----------+------------------------------------------+--------------+--------+-------+\n",
      "\n",
      "Sentence: I am Hatim, taking this NLP course taught by Reeta mam.\n",
      "+--------+------------------------------------------+--------------+--------+---------+\n",
      "|  Root  |                 Category                 |    Gender    | Number |  Tense  |\n",
      "+--------+------------------------------------------+--------------+--------+---------+\n",
      "|   I    |             Personal pronoun             | Can't Assume |   1    |    NA   |\n",
      "|   be   |   Verb, non­3rd person singular present   |   neutral    |   2    | present |\n",
      "| Hatim  |          Proper noun, singular           |     male     |   1    |    NA   |\n",
      "|   ,    |                    ,                     |   neutral    |   1    |    NA   |\n",
      "|  take  |    Verb, gerund or present participle    |   neutral    |   1    | present |\n",
      "|  this  |                Determiner                |   neutral    |   1    |    NA   |\n",
      "|  NLP   |          Proper noun, singular           |     male     |   1    |    NA   |\n",
      "| course |          noun, singular or mass          |   neutral    |   1    |    NA   |\n",
      "| taught |          noun, singular or mass          |   neutral    |   1    |    NA   |\n",
      "|   by   | Preposition or subordinating conjunction |   neutral    |   1    |    NA   |\n",
      "| Reeta  |          Proper noun, singular           |    female    |   1    |    NA   |\n",
      "|  mam   |          noun, singular or mass          |   neutral    |   1    |    NA   |\n",
      "|   .    |                    .                     |   neutral    |   1    |    NA   |\n",
      "+--------+------------------------------------------+--------------+--------+---------+\n"
     ]
    }
   ],
   "source": [
    "# Analyze each sentence\n",
    "for sentence in sentences:\n",
    "    analyze_sentence(sentence)"
   ]
  },
  {
   "cell_type": "markdown",
   "metadata": {},
   "source": [
    "### 4. Performing frequency distribution on the tokens"
   ]
  },
  {
   "cell_type": "code",
   "execution_count": 7,
   "metadata": {},
   "outputs": [
    {
     "name": "stdout",
     "output_type": "stream",
     "text": [
      "        The           .         dog         and          of           a       quick       brown         fox       jumps        over        lazy         She       plays       piano beautifully         sun        sets          in        west       every     evening        John        Mary         are       going          to       beach    tomorrow   delicious       aroma     freshly       baked       bread       fills         air         old     library          is       quiet    peaceful       place    students     eagerly       await     results       their       exams      chased     playful         cat      around        room          We     enjoyed    relaxing    vacation          on    tropical      island           I          am       Hatim           ,      taking        this         NLP      course      taught          by       Reeta         mam \n",
      "         15          10           2           2           2           2           1           1           1           1           1           1           1           1           1           1           1           1           1           1           1           1           1           1           1           1           1           1           1           1           1           1           1           1           1           1           1           1           1           1           1           1           1           1           1           1           1           1           1           1           1           1           1           1           1           1           1           1           1           1           1           1           1           1           1           1           1           1           1           1           1           1 \n"
     ]
    },
    {
     "data": {
      "image/png": "[encoded data removed]",
      "text/plain": [
       "<Figure size 640x480 with 1 Axes>"
      ]
     },
     "metadata": {},
     "output_type": "display_data"
    },
    {
     "data": {
      "text/plain": [
       "<Axes: xlabel='Samples', ylabel='Counts'>"
      ]
     },
     "execution_count": 7,
     "metadata": {},
     "output_type": "execute_result"
    }
   ],
   "source": [
    "tokens = word_tokenize(text)\n",
    "fdist = FreqDist(tokens)\n",
    "freq_table = fdist.tabulate()\n",
    "# Display frequency distribution as a bar graph\n",
    "fdist.plot(30, cumulative=False)"
   ]
  },
  {
   "cell_type": "markdown",
   "metadata": {},
   "source": [
    "### 5. Curiosity Questions\n",
    "<p style=\"font-weight:500;\">Q1. What is Natural language processing? Discuss various levels of analysis under it?</p>\n",
    "Ans: NLP bridges the gap between human language and the digital world. It's like giving computers the ears and brain to understand and respond to spoken and written language, mimicking how humans communicate.  \n",
    "\n",
    "Levels of NLP analysis progressively dig deeper into the meaning:  \n",
    "\n",
    "- Morphological analysis: Breaks down words into their smallest meaningful units (morphemes), like \"un-happy\" into \"un-\" (negation) and \"happy\" (root word).  \n",
    "- Syntactic analysis: Examines the structure of sentences, identifying parts of speech and their relationships. For example, recognizing \"The dog chased the cat\" as Subject-Verb-Object structure.  \n",
    "- Semantic analysis: Deals with the meaning of words and sentences, including context and relationships between words. Understanding that \"bark\" can refer to sound, tree part, or a team's performance depending on context.  \n",
    "- Pragmatic analysis: Considers the speaker's intent and the context in which language is used. Knowing that \"It's cold\" might be a statement, a request for warmth, or sarcasm depending on the situation.  "
   ]
  },
  {
   "cell_type": "markdown",
   "metadata": {},
   "source": [
    "<p style=\"font-weight:500;\">Q2. What do you mean by ambiguity in NLP? Discuss various ways to resolve ambiguity in NLP.</p>  \n",
    "Ans: Ambiguity in NLP refers to the presence of multiple possible interpretations of a word, phrase, or sentence. This can hinder the ability of machines to understand the true meaning.  \n",
    "\n",
    "Ways to resolve ambiguity:  \n",
    "- Context analysis: Using surrounding information to determine the intended meaning.  \n",
    "- Part-of-speech tagging: Identifying the grammatical roles of words (e.g., noun, verb) to understand their function.  \n",
    "- Word sense disambiguation: Determining the specific meaning of a word based on context and usage.  \n",
    "- ML algorithms: Trained on large datasets of text, these algorithms can statistically predict the most likely meaning in ambiguous situations.  "
   ]
  },
  {
   "cell_type": "markdown",
   "metadata": {},
   "source": [
    "<p style=\"font-weight:500;\">Q3. What is morphology with examples? </p>    \n",
    "Ans: Morphology is the branch of linguistics that studies the internal structure of words, focusing on how morphemes combine to form meaningful units.  \n",
    "\n",
    "Examples:  \n",
    "\"Unhappy\" is composed of \"un-\" (prefix meaning negation) and \"happy\" (root).  \n",
    "\"Books\" is the plural form of \"book\" by adding the suffix \"-s\".  \n",
    "\"Teacher\" combines the root \"teach\" with the suffix \"-er\" to indicate someone who does the action of teaching.  \n",
    "\n",
    "Uses of Morphology in NLP:  \n",
    "- Stemming and lemmatization: reducing words to their base form for better indexing and comparison.\n",
    "- Part-of-speech tagging: identifying the grammatical function of words based on their morphological features.\n",
    "- Spelling correction: suggesting correct spellings by analyzing possible morpheme combinations."
   ]
  },
  {
   "cell_type": "markdown",
   "metadata": {},
   "source": [
    "### 6. Conclusion\n",
    "In this experiment we learnt about the basic corpus analysis using NLTK and also learnt about the morphological features of a word. We also learnt about the tokenizination of a text file and performing frequency distribution on the tokens."
   ]
  }
 ],
 "metadata": {
  "kernelspec": {
   "display_name": "venv",
   "language": "python",
   "name": "python3"
  },
  "language_info": {
   "codemirror_mode": {
    "name": "ipython",
    "version": 3
   },
   "file_extension": ".py",
   "mimetype": "text/x-python",
   "name": "python",
   "nbconvert_exporter": "python",
   "pygments_lexer": "ipython3",
   "version": "3.11.0"
  }
 },
 "nbformat": 4,
 "nbformat_minor": 2
}
