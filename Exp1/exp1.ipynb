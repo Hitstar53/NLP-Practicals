{
 "cells": [
  {
   "cell_type": "markdown",
   "metadata": {},
   "source": [
    "Name: Hatim Sawai  \n",
    "UID: 2021300108  \n",
    "Batch: A  "
   ]
  },
  {
   "cell_type": "markdown",
   "metadata": {},
   "source": [
    "## <p style=\"text-align:center;font-weight:500;\">Experiment 1</p>\n",
    "Aim:  \n",
    "1. Install NLTK and perform basic Corpus analysis using NLTK such as frequency\n",
    "distribution  \n",
    "2. Learn about morphological features of a word by analysing it.  "
   ]
  },
  {
   "cell_type": "markdown",
   "metadata": {},
   "source": [
    "### 1. Installig NLTK and downloading the required corpus"
   ]
  },
  {
   "cell_type": "code",
   "execution_count": 39,
   "metadata": {},
   "outputs": [],
   "source": [
    "import nltk\n",
    "from nltk import FreqDist\n",
    "from nltk.tokenize import word_tokenize, sent_tokenize\n",
    "from nltk.tag import pos_tag\n",
    "from nltk.stem import WordNetLemmatizer\n",
    "from nltk.corpus import wordnet\n",
    "from prettytable import PrettyTable"
   ]
  },
  {
   "cell_type": "code",
   "execution_count": 2,
   "metadata": {},
   "outputs": [
    {
     "name": "stderr",
     "output_type": "stream",
     "text": [
      "[nltk_data] Downloading package punkt to\n",
      "[nltk_data]     C:\\Users\\hatim\\AppData\\Roaming\\nltk_data...\n",
      "[nltk_data]   Unzipping tokenizers\\punkt.zip.\n",
      "[nltk_data] Downloading package averaged_perceptron_tagger to\n",
      "[nltk_data]     C:\\Users\\hatim\\AppData\\Roaming\\nltk_data...\n",
      "[nltk_data]   Unzipping taggers\\averaged_perceptron_tagger.zip.\n",
      "[nltk_data] Downloading package wordnet to\n",
      "[nltk_data]     C:\\Users\\hatim\\AppData\\Roaming\\nltk_data...\n"
     ]
    },
    {
     "data": {
      "text/plain": [
       "True"
      ]
     },
     "execution_count": 2,
     "metadata": {},
     "output_type": "execute_result"
    }
   ],
   "source": [
    "nltk.download(\"punkt\")\n",
    "nltk.download(\"averaged_perceptron_tagger\")\n",
    "nltk.download(\"wordnet\")"
   ]
  },
  {
   "cell_type": "markdown",
   "metadata": {},
   "source": [
    "### 2. Morphological analysis of a words"
   ]
  },
  {
   "cell_type": "code",
   "execution_count": 25,
   "metadata": {},
   "outputs": [],
   "source": [
    "pos_mapping = {\n",
    "    \"CC\": \"Coordinating conjunction\",\n",
    "    \"CD\": \"Cardinal number\",\n",
    "    \"DT\": \"Determiner\",\n",
    "    \"EX\": \"Existential there\",\n",
    "    \"FW\": \"Foreign word\",\n",
    "    \"IN\": \"Preposition or subordinating conjunction\",\n",
    "    \"JJ\": \"Adjective\",\n",
    "    \"JJR\": \"Adjective, comparative\",\n",
    "    \"JJS\": \"Adjective, superlative\",\n",
    "    \"LS\": \"List item marker\",\n",
    "    \"MD\": \"Modal\",\n",
    "    \"NN\": \"noun, singular or mass\",\n",
    "    \"NNS\": \"noun, plural\",\n",
    "    \"NNP\": \"Proper noun, singular\",\n",
    "    \"NNPS\": \"Proper noun, plural\",\n",
    "    \"PDT\": \"Predeterminer\",\n",
    "    \"POS\": \"Possessive ending\",\n",
    "    \"PRP\": \"Personal pronoun\",\n",
    "    \"PRP$\": \"Possessive pronoun\",\n",
    "    \"RB\": \"Adverb\",\n",
    "    \"RBR\": \"Adverb, comparative\",\n",
    "    \"RBS\": \"Adverb, superlative\",\n",
    "    \"RP\": \"Particle\",\n",
    "    \"SYM\": \"Symbol\",\n",
    "    \"TO\": \"to\",\n",
    "    \"UH\": \"Interjection\",\n",
    "    \"VB\": \"Verb, base form\",\n",
    "    \"VBD\": \"Verb, past tense\",\n",
    "    \"VBG\": \"Verb, gerund or present participle\",\n",
    "    \"VBN\": \"Verb, past participle\",\n",
    "    \"VBP\": \"Verb, non­3rd person singular present\",\n",
    "    \"VBZ\": \"Verb, 3rd person singular present\",\n",
    "    \"WDT\": \"Wh­determiner\",\n",
    "    \"WP\": \"Wh­pronoun\",\n",
    "    \"WP$\": \"Possessive wh­pronoun\",\n",
    "    \"WRB\": \"Wh­adverb\",\n",
    "}\n",
    "\n",
    "def get_wordnet_pos(tag):\n",
    "    if tag.startswith(\"N\"):\n",
    "        return wordnet.NOUN\n",
    "    elif tag.startswith(\"V\"):\n",
    "        return wordnet.VERB\n",
    "    elif tag.startswith(\"R\"):\n",
    "        return wordnet.ADV\n",
    "    elif tag.startswith(\"J\"):\n",
    "        return wordnet.ADJ\n",
    "    else:\n",
    "        return wordnet.NOUN\n",
    "\n",
    "def get_category(tag):\n",
    "    if tag.startswith(\"N\"):\n",
    "        return \"Noun\"\n",
    "    elif tag.startswith(\"V\"):\n",
    "        return \"Verb\"\n",
    "    elif tag.startswith(\"R\"):\n",
    "        return \"Adverb\"\n",
    "    elif tag.startswith(\"J\"):\n",
    "        return \"Adjective\"\n",
    "    else:\n",
    "        return \"Noun\""
   ]
  },
  {
   "cell_type": "code",
   "execution_count": 37,
   "metadata": {},
   "outputs": [],
   "source": [
    "def analyze_sentence(sentence):\n",
    "    words = word_tokenize(sentence)\n",
    "    tags = pos_tag(words)\n",
    "    maleWords = [\"he\", \"him\", \"his\", \"himself\", \"boy\", \"sir\", \"man\"]\n",
    "    femaleWords = [\"she\", \"her\", \"hers\", \"hersef\", \"girl\", \"madam\", \"lady\"]\n",
    "    lemmatizer = WordNetLemmatizer()\n",
    "    morphological_table = PrettyTable()\n",
    "    morphological_table.field_names = [\"Root\", \"Category\", \"Gender\", \"Number\", \"Tense\"]\n",
    "    print(f\"\\nSentence: {sentence}\")\n",
    "    for i in range(len(words)):\n",
    "        root = lemmatizer.lemmatize(words[i], get_wordnet_pos(tags[i][1]))\n",
    "        category = pos_mapping[tags[i][1]] if tags[i][1] in pos_mapping else tags[i][1]\n",
    "        if words[i].lower() in maleWords:\n",
    "            gender = \"male\"\n",
    "        elif words[i].lower() in femaleWords:\n",
    "            gender = \"female\"\n",
    "        # check if word is a pronoun\n",
    "        elif \"noun\" in category and (words[i].endswith(\"i\") or words[i].endswith(\"a\")):\n",
    "            gender = \"female\"\n",
    "        elif \"noun\" in category:\n",
    "            gender = \"male\"\n",
    "        else:\n",
    "            gender = \"neutral\"\n",
    "        # find frequency of word in corpus\n",
    "        number = sentence.count(words[i])\n",
    "\n",
    "        # check if word is a verb\n",
    "        if tags[i][1].startswith(\"V\"):\n",
    "            # determine tense of the verb\n",
    "            if (\n",
    "                words[i].endswith(\"ed\")\n",
    "                or words[i - 1].lower() == \"had\"\n",
    "                or words[i - 1].lower() == \"was\"\n",
    "                or words[i - 1].lower() == \"were\"\n",
    "            ):\n",
    "                tense = \"past\"\n",
    "            elif (\n",
    "                words[i].endswith(\"ing\")\n",
    "                or words[i].endswith(\"s\")\n",
    "                or words[i - 1].lower() == \"is\"\n",
    "                or words[i - 1].lower() == \"are\"\n",
    "            ):\n",
    "                tense = \"present\"\n",
    "            elif words[i - 1].lower() == \"will\" or words[i - 1].lower() == \"shall\":\n",
    "                tense = \"future\"\n",
    "            else:\n",
    "                tense = \"present\"\n",
    "        else:\n",
    "            tense = \"NA\"\n",
    "\n",
    "        # print(f\"Root: {root}, Category: {category}, Gender: {gender}, Number: {number}, Tense: {tense}\")\n",
    "        morphological_table.add_row([root, category, gender, number, tense])\n",
    "    print(morphological_table)"
   ]
  },
  {
   "cell_type": "markdown",
   "metadata": {},
   "source": [
    "### 3. Reading a text file and Tokenizination"
   ]
  },
  {
   "cell_type": "code",
   "execution_count": 21,
   "metadata": {},
   "outputs": [],
   "source": [
    "# read input file\n",
    "with open(\"input.txt\", \"r\") as f:\n",
    "    text = f.read()\n",
    "\n",
    "# tokenise sentences\n",
    "sentences = sent_tokenize(text)"
   ]
  },
  {
   "cell_type": "code",
   "execution_count": 38,
   "metadata": {},
   "outputs": [
    {
     "name": "stdout",
     "output_type": "stream",
     "text": [
      "\n",
      "Sentence: The quick brown fox jumps over The lazy dog.\n",
      "+-------+------------------------------------------+---------+--------+---------+\n",
      "|  Root |                 Category                 |  Gender | Number |  Tense  |\n",
      "+-------+------------------------------------------+---------+--------+---------+\n",
      "|  The  |                Determiner                | neutral |   2    |    NA   |\n",
      "| quick |                Adjective                 | neutral |   1    |    NA   |\n",
      "| brown |          noun, singular or mass          |   male  |   1    |    NA   |\n",
      "|  fox  |          noun, singular or mass          |   male  |   1    |    NA   |\n",
      "|  jump |    Verb, 3rd person singular present     | neutral |   1    | present |\n",
      "|  over | Preposition or subordinating conjunction | neutral |   1    |    NA   |\n",
      "|  The  |                Determiner                | neutral |   2    |    NA   |\n",
      "|  lazy |                Adjective                 | neutral |   1    |    NA   |\n",
      "|  dog  |          noun, singular or mass          |   male  |   1    |    NA   |\n",
      "|   .   |                    .                     | neutral |   1    |    NA   |\n",
      "+-------+------------------------------------------+---------+--------+---------+\n",
      "\n",
      "Sentence: She plays The piano beautifully.\n",
      "+-------------+-----------------------------------+---------+--------+---------+\n",
      "|     Root    |              Category             |  Gender | Number |  Tense  |\n",
      "+-------------+-----------------------------------+---------+--------+---------+\n",
      "|     She     |          Personal pronoun         |  female |   1    |    NA   |\n",
      "|     play    | Verb, 3rd person singular present | neutral |   1    | present |\n",
      "|     The     |             Determiner            | neutral |   1    |    NA   |\n",
      "|    piano    |       noun, singular or mass      |   male  |   1    |    NA   |\n",
      "| beautifully |               Adverb              | neutral |   1    |    NA   |\n",
      "|      .      |                 .                 | neutral |   1    |    NA   |\n",
      "+-------------+-----------------------------------+---------+--------+---------+\n",
      "\n",
      "Sentence: The sun sets in The west every evening.\n",
      "+---------+------------------------------------------+---------+--------+-------+\n",
      "|   Root  |                 Category                 |  Gender | Number | Tense |\n",
      "+---------+------------------------------------------+---------+--------+-------+\n",
      "|   The   |                Determiner                | neutral |   2    |   NA  |\n",
      "|   sun   |          noun, singular or mass          |   male  |   1    |   NA  |\n",
      "|   set   |               noun, plural               |   male  |   1    |   NA  |\n",
      "|    in   | Preposition or subordinating conjunction | neutral |   2    |   NA  |\n",
      "|   The   |                Determiner                | neutral |   2    |   NA  |\n",
      "|   west  |          noun, singular or mass          |   male  |   1    |   NA  |\n",
      "|  every  |                Determiner                | neutral |   1    |   NA  |\n",
      "| evening |          noun, singular or mass          |   male  |   1    |   NA  |\n",
      "|    .    |                    .                     | neutral |   1    |   NA  |\n",
      "+---------+------------------------------------------+---------+--------+-------+\n",
      "\n",
      "Sentence: John and Mary are going to The beach tomorrow.\n",
      "+----------+--------------------------------------+---------+--------+---------+\n",
      "|   Root   |               Category               |  Gender | Number |  Tense  |\n",
      "+----------+--------------------------------------+---------+--------+---------+\n",
      "|   John   |        Proper noun, singular         |   male  |   1    |    NA   |\n",
      "|   and    |       Coordinating conjunction       | neutral |   1    |    NA   |\n",
      "|   Mary   |        Proper noun, singular         |   male  |   1    |    NA   |\n",
      "|    be    | Verb, non­3rd person singular present | neutral |   1    | present |\n",
      "|    go    |  Verb, gerund or present participle  | neutral |   1    | present |\n",
      "|    to    |                  to                  | neutral |   2    |    NA   |\n",
      "|   The    |              Determiner              | neutral |   1    |    NA   |\n",
      "|  beach   |        noun, singular or mass        |   male  |   1    |    NA   |\n",
      "| tomorrow |        noun, singular or mass        |   male  |   1    |    NA   |\n",
      "|    .     |                  .                   | neutral |   1    |    NA   |\n",
      "+----------+--------------------------------------+---------+--------+---------+\n",
      "\n",
      "Sentence: The delicious aroma of freshly baked bread fills The air.\n",
      "+-----------+------------------------------------------+---------+--------+---------+\n",
      "|    Root   |                 Category                 |  Gender | Number |  Tense  |\n",
      "+-----------+------------------------------------------+---------+--------+---------+\n",
      "|    The    |                Determiner                | neutral |   2    |    NA   |\n",
      "| delicious |                Adjective                 | neutral |   1    |    NA   |\n",
      "|   aroma   |          noun, singular or mass          |  female |   1    |    NA   |\n",
      "|     of    | Preposition or subordinating conjunction | neutral |   1    |    NA   |\n",
      "|  freshly  |                Adjective                 | neutral |   1    |    NA   |\n",
      "|    bake   |          Verb, past participle           | neutral |   1    |   past  |\n",
      "|   bread   |          noun, singular or mass          |   male  |   1    |    NA   |\n",
      "|    fill   |    Verb, 3rd person singular present     | neutral |   1    | present |\n",
      "|    The    |                Determiner                | neutral |   2    |    NA   |\n",
      "|    air    |          noun, singular or mass          |   male  |   1    |    NA   |\n",
      "|     .     |                    .                     | neutral |   1    |    NA   |\n",
      "+-----------+------------------------------------------+---------+--------+---------+\n",
      "\n",
      "Sentence: The old library is a quiet and peaceful place.\n",
      "+----------+-----------------------------------+---------+--------+---------+\n",
      "|   Root   |              Category             |  Gender | Number |  Tense  |\n",
      "+----------+-----------------------------------+---------+--------+---------+\n",
      "|   The    |             Determiner            | neutral |   1    |    NA   |\n",
      "|   old    |             Adjective             | neutral |   1    |    NA   |\n",
      "| library  |       noun, singular or mass      |   male  |   1    |    NA   |\n",
      "|    be    | Verb, 3rd person singular present | neutral |   1    | present |\n",
      "|    a     |             Determiner            | neutral |   5    |    NA   |\n",
      "|  quiet   |             Adjective             | neutral |   1    |    NA   |\n",
      "|   and    |      Coordinating conjunction     | neutral |   1    |    NA   |\n",
      "| peaceful |             Adjective             | neutral |   1    |    NA   |\n",
      "|  place   |       noun, singular or mass      |   male  |   1    |    NA   |\n",
      "|    .     |                 .                 | neutral |   1    |    NA   |\n",
      "+----------+-----------------------------------+---------+--------+---------+\n",
      "\n",
      "Sentence: The students eagerly await The results of their exams.\n",
      "+---------+------------------------------------------+---------+--------+---------+\n",
      "|   Root  |                 Category                 |  Gender | Number |  Tense  |\n",
      "+---------+------------------------------------------+---------+--------+---------+\n",
      "|   The   |                Determiner                | neutral |   2    |    NA   |\n",
      "| student |               noun, plural               |   male  |   1    |    NA   |\n",
      "| eagerly |                  Adverb                  | neutral |   1    |    NA   |\n",
      "|  await  |   Verb, non­3rd person singular present   | neutral |   1    | present |\n",
      "|   The   |                Determiner                | neutral |   2    |    NA   |\n",
      "|  result |               noun, plural               |   male  |   1    |    NA   |\n",
      "|    of   | Preposition or subordinating conjunction | neutral |   1    |    NA   |\n",
      "|  their  |            Possessive pronoun            |   male  |   1    |    NA   |\n",
      "|   exam  |               noun, plural               |   male  |   1    |    NA   |\n",
      "|    .    |                    .                     | neutral |   1    |    NA   |\n",
      "+---------+------------------------------------------+---------+--------+---------+\n",
      "\n",
      "Sentence: The majestic mountain range is covered in snow.\n",
      "+----------+------------------------------------------+---------+--------+---------+\n",
      "|   Root   |                 Category                 |  Gender | Number |  Tense  |\n",
      "+----------+------------------------------------------+---------+--------+---------+\n",
      "|   The    |                Determiner                | neutral |   1    |    NA   |\n",
      "| majestic |                Adjective                 | neutral |   1    |    NA   |\n",
      "| mountain |          noun, singular or mass          |   male  |   1    |    NA   |\n",
      "|  range   |          noun, singular or mass          |   male  |   1    |    NA   |\n",
      "|    be    |    Verb, 3rd person singular present     | neutral |   1    | present |\n",
      "|  cover   |          Verb, past participle           | neutral |   1    |   past  |\n",
      "|    in    | Preposition or subordinating conjunction | neutral |   2    |    NA   |\n",
      "|   snow   |          noun, singular or mass          |   male  |   1    |    NA   |\n",
      "|    .     |                    .                     | neutral |   1    |    NA   |\n",
      "+----------+------------------------------------------+---------+--------+---------+\n",
      "\n",
      "Sentence: The cat chased The playful mouse around The room.\n",
      "+---------+------------------------------------------+---------+--------+-------+\n",
      "|   Root  |                 Category                 |  Gender | Number | Tense |\n",
      "+---------+------------------------------------------+---------+--------+-------+\n",
      "|   The   |                Determiner                | neutral |   3    |   NA  |\n",
      "|   cat   |          noun, singular or mass          |   male  |   1    |   NA  |\n",
      "|  chase  |             Verb, past tense             | neutral |   1    |  past |\n",
      "|   The   |                Determiner                | neutral |   3    |   NA  |\n",
      "| playful |                Adjective                 | neutral |   1    |   NA  |\n",
      "|  mouse  |          noun, singular or mass          |   male  |   1    |   NA  |\n",
      "|  around | Preposition or subordinating conjunction | neutral |   1    |   NA  |\n",
      "|   The   |                Determiner                | neutral |   3    |   NA  |\n",
      "|   room  |          noun, singular or mass          |   male  |   1    |   NA  |\n",
      "|    .    |                    .                     | neutral |   1    |   NA  |\n",
      "+---------+------------------------------------------+---------+--------+-------+\n",
      "\n",
      "Sentence: We enjoyed a relaxing vacation on The tropical island.\n",
      "+----------+------------------------------------------+---------+--------+-------+\n",
      "|   Root   |                 Category                 |  Gender | Number | Tense |\n",
      "+----------+------------------------------------------+---------+--------+-------+\n",
      "|    We    |             Personal pronoun             |   male  |   1    |   NA  |\n",
      "|  enjoy   |             Verb, past tense             | neutral |   1    |  past |\n",
      "|    a     |                Determiner                | neutral |   6    |   NA  |\n",
      "| relaxing |                Adjective                 | neutral |   1    |   NA  |\n",
      "| vacation |          noun, singular or mass          |   male  |   1    |   NA  |\n",
      "|    on    | Preposition or subordinating conjunction | neutral |   2    |   NA  |\n",
      "|   The    |                Determiner                | neutral |   1    |   NA  |\n",
      "| tropical |                Adjective                 | neutral |   1    |   NA  |\n",
      "|  island  |          noun, singular or mass          |   male  |   1    |   NA  |\n",
      "|    .     |                    .                     | neutral |   1    |   NA  |\n",
      "+----------+------------------------------------------+---------+--------+-------+\n"
     ]
    }
   ],
   "source": [
    "# Analyze each sentence\n",
    "for sentence in sentences:\n",
    "    analyze_sentence(sentence)"
   ]
  },
  {
   "cell_type": "markdown",
   "metadata": {},
   "source": [
    "### 4. Performing frequency distribution on the tokens"
   ]
  },
  {
   "cell_type": "code",
   "execution_count": 17,
   "metadata": {},
   "outputs": [
    {
     "name": "stdout",
     "output_type": "stream",
     "text": [
      "        The           .          in         and          of          is           a       quick       brown         fox       jumps        over        lazy         dog         She       plays       piano beautifully         sun        sets        west       every     evening        John        Mary         are       going          to       beach    tomorrow   delicious       aroma     freshly       baked       bread       fills         air         old     library       quiet    peaceful       place    students     eagerly       await     results       their       exams    majestic    mountain       range     covered        snow         cat      chased     playful       mouse      around        room          We     enjoyed    relaxing    vacation          on    tropical      island \n",
      "         16          10           2           2           2           2           2           1           1           1           1           1           1           1           1           1           1           1           1           1           1           1           1           1           1           1           1           1           1           1           1           1           1           1           1           1           1           1           1           1           1           1           1           1           1           1           1           1           1           1           1           1           1           1           1           1           1           1           1           1           1           1           1           1           1           1 \n"
     ]
    },
    {
     "data": {
      "image/png": "[encoded data removed]",
      "text/plain": [
       "<Figure size 640x480 with 1 Axes>"
      ]
     },
     "metadata": {},
     "output_type": "display_data"
    },
    {
     "data": {
      "text/plain": [
       "<Axes: xlabel='Samples', ylabel='Counts'>"
      ]
     },
     "execution_count": 17,
     "metadata": {},
     "output_type": "execute_result"
    }
   ],
   "source": [
    "tokens = word_tokenize(text)\n",
    "fdist = FreqDist(tokens)\n",
    "freq_table = fdist.tabulate()\n",
    "# Display frequency distribution as a bar graph\n",
    "fdist.plot(30, cumulative=False)"
   ]
  },
  {
   "cell_type": "markdown",
   "metadata": {},
   "source": [
    "### 5. Conclusion\n",
    "In this experiment we learnt about the basic corpus analysis using NLTK and also learnt about the morphological features of a word. We also learnt about the tokenizination of a text file and performing frequency distribution on the tokens."
   ]
  }
 ],
 "metadata": {
  "kernelspec": {
   "display_name": "venv",
   "language": "python",
   "name": "python3"
  },
  "language_info": {
   "codemirror_mode": {
    "name": "ipython",
    "version": 3
   },
   "file_extension": ".py",
   "mimetype": "text/x-python",
   "name": "python",
   "nbconvert_exporter": "python",
   "pygments_lexer": "ipython3",
   "version": "3.11.0"
  }
 },
 "nbformat": 4,
 "nbformat_minor": 2
}
